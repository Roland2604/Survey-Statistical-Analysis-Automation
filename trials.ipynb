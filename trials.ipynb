{
 "cells": [
  {
   "cell_type": "code",
   "execution_count": 14,
   "id": "573e527b",
   "metadata": {},
   "outputs": [
    {
     "name": "stdout",
     "output_type": "stream",
     "text": [
      "Requirement already satisfied: pandas in ./anaconda3/lib/python3.11/site-packages (2.1.4)\n",
      "Requirement already satisfied: numpy in ./anaconda3/lib/python3.11/site-packages (1.26.2)\n",
      "Requirement already satisfied: matplotlib in ./anaconda3/lib/python3.11/site-packages (3.8.2)\n",
      "Requirement already satisfied: seaborn in ./anaconda3/lib/python3.11/site-packages (0.13.0)\n",
      "Requirement already satisfied: scipy in ./anaconda3/lib/python3.11/site-packages (1.11.4)\n",
      "Requirement already satisfied: python-dateutil>=2.8.2 in ./anaconda3/lib/python3.11/site-packages (from pandas) (2.8.2)\n",
      "Requirement already satisfied: pytz>=2020.1 in ./anaconda3/lib/python3.11/site-packages (from pandas) (2022.7)\n",
      "Requirement already satisfied: tzdata>=2022.1 in ./anaconda3/lib/python3.11/site-packages (from pandas) (2023.3)\n",
      "Requirement already satisfied: contourpy>=1.0.1 in ./anaconda3/lib/python3.11/site-packages (from matplotlib) (1.0.5)\n",
      "Requirement already satisfied: cycler>=0.10 in ./anaconda3/lib/python3.11/site-packages (from matplotlib) (0.11.0)\n",
      "Requirement already satisfied: fonttools>=4.22.0 in ./anaconda3/lib/python3.11/site-packages (from matplotlib) (4.25.0)\n",
      "Requirement already satisfied: kiwisolver>=1.3.1 in ./anaconda3/lib/python3.11/site-packages (from matplotlib) (1.4.4)\n",
      "Requirement already satisfied: packaging>=20.0 in ./anaconda3/lib/python3.11/site-packages (from matplotlib) (23.0)\n",
      "Requirement already satisfied: pillow>=8 in ./anaconda3/lib/python3.11/site-packages (from matplotlib) (9.4.0)\n",
      "Requirement already satisfied: pyparsing>=2.3.1 in ./anaconda3/lib/python3.11/site-packages (from matplotlib) (3.0.9)\n",
      "Requirement already satisfied: six>=1.5 in ./anaconda3/lib/python3.11/site-packages (from python-dateutil>=2.8.2->pandas) (1.16.0)\n",
      "Note: you may need to restart the kernel to use updated packages.\n"
     ]
    }
   ],
   "source": [
    "pip install pandas numpy matplotlib seaborn --upgrade scipy"
   ]
  },
  {
   "cell_type": "code",
   "execution_count": 15,
   "id": "7f011bdf",
   "metadata": {},
   "outputs": [
    {
     "name": "stdout",
     "output_type": "stream",
     "text": [
      "Requirement already satisfied: dash in ./anaconda3/lib/python3.11/site-packages (2.14.2)\n",
      "Requirement already satisfied: dash-core-components in ./anaconda3/lib/python3.11/site-packages (2.0.0)\n",
      "Requirement already satisfied: dash-html-components in ./anaconda3/lib/python3.11/site-packages (2.0.0)\n",
      "Requirement already satisfied: dash-table in ./anaconda3/lib/python3.11/site-packages (5.0.0)\n",
      "Requirement already satisfied: plotly in ./anaconda3/lib/python3.11/site-packages (5.9.0)\n",
      "Requirement already satisfied: Flask<3.1,>=1.0.4 in ./anaconda3/lib/python3.11/site-packages (from dash) (2.2.2)\n",
      "Requirement already satisfied: Werkzeug<3.1 in ./anaconda3/lib/python3.11/site-packages (from dash) (2.2.3)\n",
      "Requirement already satisfied: typing-extensions>=4.1.1 in ./anaconda3/lib/python3.11/site-packages (from dash) (4.7.1)\n",
      "Requirement already satisfied: requests in ./anaconda3/lib/python3.11/site-packages (from dash) (2.31.0)\n",
      "Requirement already satisfied: retrying in ./anaconda3/lib/python3.11/site-packages (from dash) (1.3.4)\n",
      "Requirement already satisfied: ansi2html in ./anaconda3/lib/python3.11/site-packages (from dash) (1.8.0)\n",
      "Requirement already satisfied: nest-asyncio in ./anaconda3/lib/python3.11/site-packages (from dash) (1.5.6)\n",
      "Requirement already satisfied: setuptools in ./anaconda3/lib/python3.11/site-packages (from dash) (68.0.0)\n",
      "Requirement already satisfied: importlib-metadata in ./anaconda3/lib/python3.11/site-packages (from dash) (6.0.0)\n",
      "Requirement already satisfied: tenacity>=6.2.0 in ./anaconda3/lib/python3.11/site-packages (from plotly) (8.2.2)\n",
      "Requirement already satisfied: Jinja2>=3.0 in ./anaconda3/lib/python3.11/site-packages (from Flask<3.1,>=1.0.4->dash) (3.1.2)\n",
      "Requirement already satisfied: itsdangerous>=2.0 in ./anaconda3/lib/python3.11/site-packages (from Flask<3.1,>=1.0.4->dash) (2.0.1)\n",
      "Requirement already satisfied: click>=8.0 in ./anaconda3/lib/python3.11/site-packages (from Flask<3.1,>=1.0.4->dash) (8.0.4)\n",
      "Requirement already satisfied: MarkupSafe>=2.1.1 in ./anaconda3/lib/python3.11/site-packages (from Werkzeug<3.1->dash) (2.1.1)\n",
      "Requirement already satisfied: zipp>=0.5 in ./anaconda3/lib/python3.11/site-packages (from importlib-metadata->dash) (3.11.0)\n",
      "Requirement already satisfied: charset-normalizer<4,>=2 in ./anaconda3/lib/python3.11/site-packages (from requests->dash) (2.0.4)\n",
      "Requirement already satisfied: idna<4,>=2.5 in ./anaconda3/lib/python3.11/site-packages (from requests->dash) (3.4)\n",
      "Requirement already satisfied: urllib3<3,>=1.21.1 in ./anaconda3/lib/python3.11/site-packages (from requests->dash) (1.26.16)\n",
      "Requirement already satisfied: certifi>=2017.4.17 in ./anaconda3/lib/python3.11/site-packages (from requests->dash) (2023.7.22)\n",
      "Requirement already satisfied: six>=1.7.0 in ./anaconda3/lib/python3.11/site-packages (from retrying->dash) (1.16.0)\n",
      "Note: you may need to restart the kernel to use updated packages.\n"
     ]
    }
   ],
   "source": [
    "pip install dash dash-core-components dash-html-components dash-table plotly"
   ]
  },
  {
   "cell_type": "code",
   "execution_count": 16,
   "id": "aeb1c3fa",
   "metadata": {},
   "outputs": [
    {
     "name": "stdout",
     "output_type": "stream",
     "text": [
      "Requirement already satisfied: dash in ./anaconda3/lib/python3.11/site-packages (2.14.2)\n",
      "Requirement already satisfied: dash-renderer in ./anaconda3/lib/python3.11/site-packages (1.9.1)\n",
      "Requirement already satisfied: dash-html-components in ./anaconda3/lib/python3.11/site-packages (2.0.0)\n",
      "Requirement already satisfied: dash-core-components in ./anaconda3/lib/python3.11/site-packages (2.0.0)\n",
      "Requirement already satisfied: plotly in ./anaconda3/lib/python3.11/site-packages (5.9.0)\n",
      "Requirement already satisfied: Flask<3.1,>=1.0.4 in ./anaconda3/lib/python3.11/site-packages (from dash) (2.2.2)\n",
      "Requirement already satisfied: Werkzeug<3.1 in ./anaconda3/lib/python3.11/site-packages (from dash) (2.2.3)\n",
      "Requirement already satisfied: dash-table==5.0.0 in ./anaconda3/lib/python3.11/site-packages (from dash) (5.0.0)\n",
      "Requirement already satisfied: typing-extensions>=4.1.1 in ./anaconda3/lib/python3.11/site-packages (from dash) (4.7.1)\n",
      "Requirement already satisfied: requests in ./anaconda3/lib/python3.11/site-packages (from dash) (2.31.0)\n",
      "Requirement already satisfied: retrying in ./anaconda3/lib/python3.11/site-packages (from dash) (1.3.4)\n",
      "Requirement already satisfied: ansi2html in ./anaconda3/lib/python3.11/site-packages (from dash) (1.8.0)\n",
      "Requirement already satisfied: nest-asyncio in ./anaconda3/lib/python3.11/site-packages (from dash) (1.5.6)\n",
      "Requirement already satisfied: setuptools in ./anaconda3/lib/python3.11/site-packages (from dash) (68.0.0)\n",
      "Requirement already satisfied: importlib-metadata in ./anaconda3/lib/python3.11/site-packages (from dash) (6.0.0)\n",
      "Requirement already satisfied: tenacity>=6.2.0 in ./anaconda3/lib/python3.11/site-packages (from plotly) (8.2.2)\n",
      "Requirement already satisfied: Jinja2>=3.0 in ./anaconda3/lib/python3.11/site-packages (from Flask<3.1,>=1.0.4->dash) (3.1.2)\n",
      "Requirement already satisfied: itsdangerous>=2.0 in ./anaconda3/lib/python3.11/site-packages (from Flask<3.1,>=1.0.4->dash) (2.0.1)\n",
      "Requirement already satisfied: click>=8.0 in ./anaconda3/lib/python3.11/site-packages (from Flask<3.1,>=1.0.4->dash) (8.0.4)\n",
      "Requirement already satisfied: MarkupSafe>=2.1.1 in ./anaconda3/lib/python3.11/site-packages (from Werkzeug<3.1->dash) (2.1.1)\n",
      "Requirement already satisfied: zipp>=0.5 in ./anaconda3/lib/python3.11/site-packages (from importlib-metadata->dash) (3.11.0)\n",
      "Requirement already satisfied: charset-normalizer<4,>=2 in ./anaconda3/lib/python3.11/site-packages (from requests->dash) (2.0.4)\n",
      "Requirement already satisfied: idna<4,>=2.5 in ./anaconda3/lib/python3.11/site-packages (from requests->dash) (3.4)\n",
      "Requirement already satisfied: urllib3<3,>=1.21.1 in ./anaconda3/lib/python3.11/site-packages (from requests->dash) (1.26.16)\n",
      "Requirement already satisfied: certifi>=2017.4.17 in ./anaconda3/lib/python3.11/site-packages (from requests->dash) (2023.7.22)\n",
      "Requirement already satisfied: six>=1.7.0 in ./anaconda3/lib/python3.11/site-packages (from retrying->dash) (1.16.0)\n",
      "Note: you may need to restart the kernel to use updated packages.\n"
     ]
    }
   ],
   "source": [
    "pip install dash dash-renderer dash-html-components dash-core-components plotly"
   ]
  },
  {
   "cell_type": "code",
   "execution_count": 17,
   "id": "29a4c4ad",
   "metadata": {},
   "outputs": [
    {
     "name": "stdout",
     "output_type": "stream",
     "text": [
      "Requirement already satisfied: dash in ./anaconda3/lib/python3.11/site-packages (2.14.2)\n",
      "Requirement already satisfied: dash-bootstrap-components in ./anaconda3/lib/python3.11/site-packages (1.5.0)\n",
      "Requirement already satisfied: dash-table in ./anaconda3/lib/python3.11/site-packages (5.0.0)\n",
      "Requirement already satisfied: Flask<3.1,>=1.0.4 in ./anaconda3/lib/python3.11/site-packages (from dash) (2.2.2)\n",
      "Requirement already satisfied: Werkzeug<3.1 in ./anaconda3/lib/python3.11/site-packages (from dash) (2.2.3)\n",
      "Requirement already satisfied: plotly>=5.0.0 in ./anaconda3/lib/python3.11/site-packages (from dash) (5.9.0)\n",
      "Requirement already satisfied: dash-html-components==2.0.0 in ./anaconda3/lib/python3.11/site-packages (from dash) (2.0.0)\n",
      "Requirement already satisfied: dash-core-components==2.0.0 in ./anaconda3/lib/python3.11/site-packages (from dash) (2.0.0)\n",
      "Requirement already satisfied: typing-extensions>=4.1.1 in ./anaconda3/lib/python3.11/site-packages (from dash) (4.7.1)\n",
      "Requirement already satisfied: requests in ./anaconda3/lib/python3.11/site-packages (from dash) (2.31.0)\n",
      "Requirement already satisfied: retrying in ./anaconda3/lib/python3.11/site-packages (from dash) (1.3.4)\n",
      "Requirement already satisfied: ansi2html in ./anaconda3/lib/python3.11/site-packages (from dash) (1.8.0)\n",
      "Requirement already satisfied: nest-asyncio in ./anaconda3/lib/python3.11/site-packages (from dash) (1.5.6)\n",
      "Requirement already satisfied: setuptools in ./anaconda3/lib/python3.11/site-packages (from dash) (68.0.0)\n",
      "Requirement already satisfied: importlib-metadata in ./anaconda3/lib/python3.11/site-packages (from dash) (6.0.0)\n",
      "Requirement already satisfied: Jinja2>=3.0 in ./anaconda3/lib/python3.11/site-packages (from Flask<3.1,>=1.0.4->dash) (3.1.2)\n",
      "Requirement already satisfied: itsdangerous>=2.0 in ./anaconda3/lib/python3.11/site-packages (from Flask<3.1,>=1.0.4->dash) (2.0.1)\n",
      "Requirement already satisfied: click>=8.0 in ./anaconda3/lib/python3.11/site-packages (from Flask<3.1,>=1.0.4->dash) (8.0.4)\n",
      "Requirement already satisfied: tenacity>=6.2.0 in ./anaconda3/lib/python3.11/site-packages (from plotly>=5.0.0->dash) (8.2.2)\n",
      "Requirement already satisfied: MarkupSafe>=2.1.1 in ./anaconda3/lib/python3.11/site-packages (from Werkzeug<3.1->dash) (2.1.1)\n",
      "Requirement already satisfied: zipp>=0.5 in ./anaconda3/lib/python3.11/site-packages (from importlib-metadata->dash) (3.11.0)\n",
      "Requirement already satisfied: charset-normalizer<4,>=2 in ./anaconda3/lib/python3.11/site-packages (from requests->dash) (2.0.4)\n",
      "Requirement already satisfied: idna<4,>=2.5 in ./anaconda3/lib/python3.11/site-packages (from requests->dash) (3.4)\n",
      "Requirement already satisfied: urllib3<3,>=1.21.1 in ./anaconda3/lib/python3.11/site-packages (from requests->dash) (1.26.16)\n",
      "Requirement already satisfied: certifi>=2017.4.17 in ./anaconda3/lib/python3.11/site-packages (from requests->dash) (2023.7.22)\n",
      "Requirement already satisfied: six>=1.7.0 in ./anaconda3/lib/python3.11/site-packages (from retrying->dash) (1.16.0)\n",
      "Note: you may need to restart the kernel to use updated packages.\n"
     ]
    }
   ],
   "source": [
    "pip install dash dash-bootstrap-components dash-table"
   ]
  },
  {
   "cell_type": "code",
   "execution_count": 18,
   "id": "738af61a",
   "metadata": {},
   "outputs": [
    {
     "name": "stdout",
     "output_type": "stream",
     "text": [
      "Requirement already satisfied: dash in ./anaconda3/lib/python3.11/site-packages (2.14.2)\n",
      "Requirement already satisfied: dash-bootstrap-components in ./anaconda3/lib/python3.11/site-packages (1.5.0)\n",
      "Requirement already satisfied: dash-table in ./anaconda3/lib/python3.11/site-packages (5.0.0)\n",
      "Requirement already satisfied: Flask<3.1,>=1.0.4 in ./anaconda3/lib/python3.11/site-packages (from dash) (2.2.2)\n",
      "Requirement already satisfied: Werkzeug<3.1 in ./anaconda3/lib/python3.11/site-packages (from dash) (2.2.3)\n",
      "Requirement already satisfied: plotly>=5.0.0 in ./anaconda3/lib/python3.11/site-packages (from dash) (5.9.0)\n",
      "Requirement already satisfied: dash-html-components==2.0.0 in ./anaconda3/lib/python3.11/site-packages (from dash) (2.0.0)\n",
      "Requirement already satisfied: dash-core-components==2.0.0 in ./anaconda3/lib/python3.11/site-packages (from dash) (2.0.0)\n",
      "Requirement already satisfied: typing-extensions>=4.1.1 in ./anaconda3/lib/python3.11/site-packages (from dash) (4.7.1)\n",
      "Requirement already satisfied: requests in ./anaconda3/lib/python3.11/site-packages (from dash) (2.31.0)\n",
      "Requirement already satisfied: retrying in ./anaconda3/lib/python3.11/site-packages (from dash) (1.3.4)\n",
      "Requirement already satisfied: ansi2html in ./anaconda3/lib/python3.11/site-packages (from dash) (1.8.0)\n",
      "Requirement already satisfied: nest-asyncio in ./anaconda3/lib/python3.11/site-packages (from dash) (1.5.6)\n",
      "Requirement already satisfied: setuptools in ./anaconda3/lib/python3.11/site-packages (from dash) (68.0.0)\n",
      "Requirement already satisfied: importlib-metadata in ./anaconda3/lib/python3.11/site-packages (from dash) (6.0.0)\n",
      "Requirement already satisfied: Jinja2>=3.0 in ./anaconda3/lib/python3.11/site-packages (from Flask<3.1,>=1.0.4->dash) (3.1.2)\n",
      "Requirement already satisfied: itsdangerous>=2.0 in ./anaconda3/lib/python3.11/site-packages (from Flask<3.1,>=1.0.4->dash) (2.0.1)\n",
      "Requirement already satisfied: click>=8.0 in ./anaconda3/lib/python3.11/site-packages (from Flask<3.1,>=1.0.4->dash) (8.0.4)\n",
      "Requirement already satisfied: tenacity>=6.2.0 in ./anaconda3/lib/python3.11/site-packages (from plotly>=5.0.0->dash) (8.2.2)\n",
      "Requirement already satisfied: MarkupSafe>=2.1.1 in ./anaconda3/lib/python3.11/site-packages (from Werkzeug<3.1->dash) (2.1.1)\n",
      "Requirement already satisfied: zipp>=0.5 in ./anaconda3/lib/python3.11/site-packages (from importlib-metadata->dash) (3.11.0)\n",
      "Requirement already satisfied: charset-normalizer<4,>=2 in ./anaconda3/lib/python3.11/site-packages (from requests->dash) (2.0.4)\n",
      "Requirement already satisfied: idna<4,>=2.5 in ./anaconda3/lib/python3.11/site-packages (from requests->dash) (3.4)\n",
      "Requirement already satisfied: urllib3<3,>=1.21.1 in ./anaconda3/lib/python3.11/site-packages (from requests->dash) (1.26.16)\n",
      "Requirement already satisfied: certifi>=2017.4.17 in ./anaconda3/lib/python3.11/site-packages (from requests->dash) (2023.7.22)\n",
      "Requirement already satisfied: six>=1.7.0 in ./anaconda3/lib/python3.11/site-packages (from retrying->dash) (1.16.0)\n",
      "Note: you may need to restart the kernel to use updated packages.\n"
     ]
    }
   ],
   "source": [
    "pip install dash dash-bootstrap-components dash-table"
   ]
  },
  {
   "cell_type": "code",
   "execution_count": 19,
   "id": "2c7baea3",
   "metadata": {},
   "outputs": [
    {
     "name": "stdout",
     "output_type": "stream",
     "text": [
      "Requirement already satisfied: dash in ./anaconda3/lib/python3.11/site-packages (2.14.2)\n",
      "Requirement already satisfied: plotly in ./anaconda3/lib/python3.11/site-packages (5.9.0)\n",
      "Requirement already satisfied: Flask<3.1,>=1.0.4 in ./anaconda3/lib/python3.11/site-packages (from dash) (2.2.2)\n",
      "Requirement already satisfied: Werkzeug<3.1 in ./anaconda3/lib/python3.11/site-packages (from dash) (2.2.3)\n",
      "Requirement already satisfied: dash-html-components==2.0.0 in ./anaconda3/lib/python3.11/site-packages (from dash) (2.0.0)\n",
      "Requirement already satisfied: dash-core-components==2.0.0 in ./anaconda3/lib/python3.11/site-packages (from dash) (2.0.0)\n",
      "Requirement already satisfied: dash-table==5.0.0 in ./anaconda3/lib/python3.11/site-packages (from dash) (5.0.0)\n",
      "Requirement already satisfied: typing-extensions>=4.1.1 in ./anaconda3/lib/python3.11/site-packages (from dash) (4.7.1)\n",
      "Requirement already satisfied: requests in ./anaconda3/lib/python3.11/site-packages (from dash) (2.31.0)\n",
      "Requirement already satisfied: retrying in ./anaconda3/lib/python3.11/site-packages (from dash) (1.3.4)\n",
      "Requirement already satisfied: ansi2html in ./anaconda3/lib/python3.11/site-packages (from dash) (1.8.0)\n",
      "Requirement already satisfied: nest-asyncio in ./anaconda3/lib/python3.11/site-packages (from dash) (1.5.6)\n",
      "Requirement already satisfied: setuptools in ./anaconda3/lib/python3.11/site-packages (from dash) (68.0.0)\n",
      "Requirement already satisfied: importlib-metadata in ./anaconda3/lib/python3.11/site-packages (from dash) (6.0.0)\n",
      "Requirement already satisfied: tenacity>=6.2.0 in ./anaconda3/lib/python3.11/site-packages (from plotly) (8.2.2)\n",
      "Requirement already satisfied: Jinja2>=3.0 in ./anaconda3/lib/python3.11/site-packages (from Flask<3.1,>=1.0.4->dash) (3.1.2)\n",
      "Requirement already satisfied: itsdangerous>=2.0 in ./anaconda3/lib/python3.11/site-packages (from Flask<3.1,>=1.0.4->dash) (2.0.1)\n",
      "Requirement already satisfied: click>=8.0 in ./anaconda3/lib/python3.11/site-packages (from Flask<3.1,>=1.0.4->dash) (8.0.4)\n",
      "Requirement already satisfied: MarkupSafe>=2.1.1 in ./anaconda3/lib/python3.11/site-packages (from Werkzeug<3.1->dash) (2.1.1)\n",
      "Requirement already satisfied: zipp>=0.5 in ./anaconda3/lib/python3.11/site-packages (from importlib-metadata->dash) (3.11.0)\n",
      "Requirement already satisfied: charset-normalizer<4,>=2 in ./anaconda3/lib/python3.11/site-packages (from requests->dash) (2.0.4)\n",
      "Requirement already satisfied: idna<4,>=2.5 in ./anaconda3/lib/python3.11/site-packages (from requests->dash) (3.4)\n",
      "Requirement already satisfied: urllib3<3,>=1.21.1 in ./anaconda3/lib/python3.11/site-packages (from requests->dash) (1.26.16)\n",
      "Requirement already satisfied: certifi>=2017.4.17 in ./anaconda3/lib/python3.11/site-packages (from requests->dash) (2023.7.22)\n",
      "Requirement already satisfied: six>=1.7.0 in ./anaconda3/lib/python3.11/site-packages (from retrying->dash) (1.16.0)\n",
      "Note: you may need to restart the kernel to use updated packages.\n"
     ]
    }
   ],
   "source": [
    "pip install dash plotly"
   ]
  },
  {
   "cell_type": "code",
   "execution_count": 20,
   "id": "c9f1ac75",
   "metadata": {},
   "outputs": [
    {
     "name": "stdout",
     "output_type": "stream",
     "text": [
      "Requirement already satisfied: dash in ./anaconda3/lib/python3.11/site-packages (2.14.2)\n",
      "Requirement already satisfied: dash-bootstrap-components in ./anaconda3/lib/python3.11/site-packages (1.5.0)\n",
      "Requirement already satisfied: pandas in ./anaconda3/lib/python3.11/site-packages (2.1.4)\n",
      "Requirement already satisfied: Flask<3.1,>=1.0.4 in ./anaconda3/lib/python3.11/site-packages (from dash) (2.2.2)\n",
      "Requirement already satisfied: Werkzeug<3.1 in ./anaconda3/lib/python3.11/site-packages (from dash) (2.2.3)\n",
      "Requirement already satisfied: plotly>=5.0.0 in ./anaconda3/lib/python3.11/site-packages (from dash) (5.9.0)\n",
      "Requirement already satisfied: dash-html-components==2.0.0 in ./anaconda3/lib/python3.11/site-packages (from dash) (2.0.0)\n",
      "Requirement already satisfied: dash-core-components==2.0.0 in ./anaconda3/lib/python3.11/site-packages (from dash) (2.0.0)\n",
      "Requirement already satisfied: dash-table==5.0.0 in ./anaconda3/lib/python3.11/site-packages (from dash) (5.0.0)\n",
      "Requirement already satisfied: typing-extensions>=4.1.1 in ./anaconda3/lib/python3.11/site-packages (from dash) (4.7.1)\n",
      "Requirement already satisfied: requests in ./anaconda3/lib/python3.11/site-packages (from dash) (2.31.0)\n",
      "Requirement already satisfied: retrying in ./anaconda3/lib/python3.11/site-packages (from dash) (1.3.4)\n",
      "Requirement already satisfied: ansi2html in ./anaconda3/lib/python3.11/site-packages (from dash) (1.8.0)\n",
      "Requirement already satisfied: nest-asyncio in ./anaconda3/lib/python3.11/site-packages (from dash) (1.5.6)\n",
      "Requirement already satisfied: setuptools in ./anaconda3/lib/python3.11/site-packages (from dash) (68.0.0)\n",
      "Requirement already satisfied: importlib-metadata in ./anaconda3/lib/python3.11/site-packages (from dash) (6.0.0)\n",
      "Requirement already satisfied: numpy<2,>=1.23.2 in ./anaconda3/lib/python3.11/site-packages (from pandas) (1.26.2)\n",
      "Requirement already satisfied: python-dateutil>=2.8.2 in ./anaconda3/lib/python3.11/site-packages (from pandas) (2.8.2)\n",
      "Requirement already satisfied: pytz>=2020.1 in ./anaconda3/lib/python3.11/site-packages (from pandas) (2022.7)\n",
      "Requirement already satisfied: tzdata>=2022.1 in ./anaconda3/lib/python3.11/site-packages (from pandas) (2023.3)\n",
      "Requirement already satisfied: Jinja2>=3.0 in ./anaconda3/lib/python3.11/site-packages (from Flask<3.1,>=1.0.4->dash) (3.1.2)\n",
      "Requirement already satisfied: itsdangerous>=2.0 in ./anaconda3/lib/python3.11/site-packages (from Flask<3.1,>=1.0.4->dash) (2.0.1)\n",
      "Requirement already satisfied: click>=8.0 in ./anaconda3/lib/python3.11/site-packages (from Flask<3.1,>=1.0.4->dash) (8.0.4)\n",
      "Requirement already satisfied: tenacity>=6.2.0 in ./anaconda3/lib/python3.11/site-packages (from plotly>=5.0.0->dash) (8.2.2)\n",
      "Requirement already satisfied: six>=1.5 in ./anaconda3/lib/python3.11/site-packages (from python-dateutil>=2.8.2->pandas) (1.16.0)\n",
      "Requirement already satisfied: MarkupSafe>=2.1.1 in ./anaconda3/lib/python3.11/site-packages (from Werkzeug<3.1->dash) (2.1.1)\n",
      "Requirement already satisfied: zipp>=0.5 in ./anaconda3/lib/python3.11/site-packages (from importlib-metadata->dash) (3.11.0)\n",
      "Requirement already satisfied: charset-normalizer<4,>=2 in ./anaconda3/lib/python3.11/site-packages (from requests->dash) (2.0.4)\n",
      "Requirement already satisfied: idna<4,>=2.5 in ./anaconda3/lib/python3.11/site-packages (from requests->dash) (3.4)\n",
      "Requirement already satisfied: urllib3<3,>=1.21.1 in ./anaconda3/lib/python3.11/site-packages (from requests->dash) (1.26.16)\n",
      "Requirement already satisfied: certifi>=2017.4.17 in ./anaconda3/lib/python3.11/site-packages (from requests->dash) (2023.7.22)\n",
      "Note: you may need to restart the kernel to use updated packages.\n"
     ]
    }
   ],
   "source": [
    "pip install dash dash-bootstrap-components pandas"
   ]
  },
  {
   "cell_type": "code",
   "execution_count": 21,
   "id": "ca1aa2eb",
   "metadata": {},
   "outputs": [
    {
     "name": "stdout",
     "output_type": "stream",
     "text": [
      "Requirement already satisfied: tabulate in ./anaconda3/lib/python3.11/site-packages (0.8.10)\n",
      "Note: you may need to restart the kernel to use updated packages.\n"
     ]
    }
   ],
   "source": [
    "pip install tabulate"
   ]
  },
  {
   "cell_type": "code",
   "execution_count": null,
   "id": "73fcb83a",
   "metadata": {
    "scrolled": false
   },
   "outputs": [],
   "source": []
  },
  {
   "cell_type": "code",
   "execution_count": 22,
   "id": "edac4399",
   "metadata": {},
   "outputs": [],
   "source": [
    "### import libraries\n",
    "import numpy as np\n",
    "import pandas as pd\n",
    "import matplotlib.pyplot as plt\n",
    "import seaborn as sns\n",
    "from scipy import stats\n",
    "from scipy.stats import ttest_ind\n",
    "import dash\n",
    "from dash import dcc, html, dash_table\n",
    "from dash.dependencies import Input, Output\n",
    "import plotly.express as px\n",
    "from tabulate import tabulate \n",
    "import plotly.graph_objs as go\n",
    "from dash import Dash, dcc, html\n",
    "from IPython.display import display, HTML, Markdown\n",
    "import warnings\n"
   ]
  },
  {
   "cell_type": "code",
   "execution_count": 23,
   "id": "bc201bd4",
   "metadata": {},
   "outputs": [],
   "source": [
    "def load_survey_data(filename):\n",
    "    try:\n",
    "        return pd.read_excel(filename, header=0)\n",
    "    except FileNotFoundError:\n",
    "        return None\n",
    "    except ValueError as e:\n",
    "        print(f\"Error: {e}\")\n",
    "        return None\n",
    "    except Exception as e:\n",
    "        print(f\"Unexpected error: {e}\")\n",
    "        return None"
   ]
  },
  {
   "cell_type": "code",
   "execution_count": 24,
   "id": "247211c6",
   "metadata": {},
   "outputs": [],
   "source": [
    "def preprocess_data(data, num_personal_info_cols, choice, categorical_mappings):\n",
    "    if num_personal_info_cols >= data.shape[1]:\n",
    "        raise ValueError(\"Number of personal info columns exceeds total columns.\")\n",
    "        \n",
    "    if choice == 1:\n",
    "        data = data.dropna()\n",
    "    elif choice == 2:\n",
    "        for column in data.columns[num_personal_info_cols:]:\n",
    "            if data[column].dtype == 'object':\n",
    "                data[column].fillna(data[column].mode()[0], inplace=True)\n",
    "            else:\n",
    "                data[column].fillna(data[column].mean(), inplace=True)\n",
    "    elif choice == 3:\n",
    "        fill_value = input(\"Enter the value to fill missing data with: \")\n",
    "        data = data.fillna(fill_value)\n",
    "\n",
    "    # Convert non-numeric responses if present\n",
    "    if categorical_mappings:\n",
    "        for column in data.columns:\n",
    "            if data[column].dtype == 'object':\n",
    "                data[column] = data[column].map(categorical_mappings).fillna(data[column])\n",
    "\n",
    "    return data"
   ]
  },
  {
   "cell_type": "code",
   "execution_count": 25,
   "id": "30ea4030",
   "metadata": {},
   "outputs": [],
   "source": [
    "def display_categorical_mappings(data, num_personal_info_cols):\n",
    "    non_numeric_responses = set()\n",
    "\n",
    "    # Check each column for non-numeric responses\n",
    "    for column in data.columns[num_personal_info_cols:]:\n",
    "        if data[column].dtype == 'object':\n",
    "            non_numeric_responses.update(data[column].unique())\n",
    "\n",
    "    # Proceed only if there are non-numeric responses\n",
    "    if non_numeric_responses:\n",
    "        display(HTML(\"<h2 style='color:green; font-weight:bold;'>NON-NUMERIC RESPONSES CONVERSIONS:</h3>\"))\n",
    "        non_numeric_responses_str = ', '.join(f'<u><b>{response}</b></u>' for response in non_numeric_responses)  # Format each response\n",
    "\n",
    "        # Display the instruction, non-numeric responses, and the example conversion table\n",
    "        instruction_html = f\"\"\"\n",
    "        <b>\\nINSTRUCTION:</b> Based on checking, your survey contains non-numeric responses: {non_numeric_responses_str}<br>\n",
    "        <p>Please convert these non-numeric responses into numeric values so that the system can calculate them.</p>\n",
    "        <h4 style='color:green; font-weight:bold;'>Non-numeric Response Conversion Table Example:</h3>\n",
    "        \"\"\"\n",
    "        display(HTML(instruction_html))\n",
    "\n",
    "        # Example data for non-numeric response conversion\n",
    "        example_mapping_data = [\n",
    "            ['Very Satisfied', 4],\n",
    "            ['Satisfied', 3],\n",
    "            ['Dissatisfied', 2],\n",
    "            ['Very Dissatisfied', 1]\n",
    "        ]\n",
    "\n",
    "        # Generate an HTML table from the example data\n",
    "        html_table = tabulate(example_mapping_data, headers=['Non-numeric', 'Numeric Equivalent'], tablefmt='html')\n",
    "        display(HTML(html_table))\n",
    "\n",
    "        # Ask the user to input mappings\n",
    "        mapping_data = []\n",
    "        for response in non_numeric_responses:\n",
    "            while True:\n",
    "                display(HTML(f\"<p>Please enter the numeric value for <u><b>{response}</b></u>:</p>\"))\n",
    "                try:\n",
    "                    numeric_value = int(input())\n",
    "                    if numeric_value > 0:\n",
    "                        mapping_data.append([response, numeric_value])\n",
    "                        break  # Exit the loop if a valid input is provided\n",
    "                    else:\n",
    "                        raise ValueError(\"<font color='red'><b>Error:</b></font> Please enter a numeric value greater than 0.\")\n",
    "                except ValueError as e:\n",
    "                    display(Markdown(f\"<font color='red'><b>Error:</b> Invalid input. Please enter a valid numeric value greater than 0.</font>\"))\n",
    "\n",
    "        # Now you can create the dictionary from the mapping_data\n",
    "        result_dict = {response: value for response, value in mapping_data}\n",
    "\n",
    "        return result_dict\n",
    "\n",
    "    \n",
    "    # If no non-numeric responses are found, an empty dictionary is returned\n",
    "    return {}"
   ]
  },
  {
   "cell_type": "code",
   "execution_count": 26,
   "id": "161e11b8",
   "metadata": {},
   "outputs": [],
   "source": [
    "def display_menu():\n",
    "    menu = \"\"\"\n",
    "    <h2 style='color:green; font-weight:bold;'>PROGRAM CAPABILITIES</h2>\n",
    "    <p><b>1. DEMOGRAPHICS OF THE RESPONDENTS</b></p>\n",
    "    <p>- Create an interactive table displaying demographics data for respondents, including age, gender, and location. Show measures, frequency, and percentages.</p>\n",
    "    <p><b>2. CATEGORY/FACTOR ANALYSIS</b></p>\n",
    "    <p>- Analyze questions that measure a single factor or category. Provide the titles and questions under each factor/category as an example.</p>\n",
    "    <p><b>3. CORRELATIONAL ANALYSIS</b></p>\n",
    "    <p>- Investigate the presence of positive relationships between survey questions and between factors/categories. Generate a heatmap and highlight the top 3 strong positive relationships.</p>\n",
    "    <p><b>4. SIGNIFICANT DIFFERENCES BETWEEN DATAS</b></p>\n",
    "    <p>- Examine if there are significant differences between respondent demographics and their responses within each factor/category. <i>This analysis should only be conducted after completing the category/factor analysis (Capability No.2).</i></p>\n",
    "    <p><b>5. INDIVIDUAL ANALYSIS FOR ALL QUESTIONS</b></p>\n",
    "    <p>- Perform an individual analysis of all survey questions, presenting them with interactive charts for comprehensive insights.\\n</p>\n",
    "    \"\"\"\n",
    "    # Display the menu\n",
    "    display(HTML(menu))\n",
    "\n",
    "    # Get user's selection\n",
    "    while True:\n",
    "        display(HTML(\"<font style='font-family:Arial;'><b>\\nSelect the analysis you want to perform (e.g., '1' for Profile of the Respondents, '1,2,3' for multiple analyses, or 'all' for all analyses):</b></font> \"))\n",
    "        selected_analysis = input().lower()\n",
    "\n",
    "        try:\n",
    "            if selected_analysis == 'all' or all(char.isdigit() and 1 <= int(char) <= 5 or char == ',' for char in selected_analysis.split(',')):\n",
    "                # Check if '4' is selected without '2'\n",
    "                selected_numbers = [int(char) for char in selected_analysis.split(',') if char.isdigit()]\n",
    "                if 4 in selected_numbers and 2 not in selected_numbers:\n",
    "                     raise ValueError(\"\\n<font color='red'><b>Error:</b><b> You cannot select '4' without selecting '2'.</font></b>\")\n",
    "                else:\n",
    "                    return selected_analysis\n",
    "            else:\n",
    "                raise ValueError(\"\\n<font color='red'><b>Error:</b><b> Invalid input. Please enter a digit from 1 to 5, digits from 1 to 5 separated by a comma, or 'all'.\\nExample: '1', '2,3', 'all'.</font></b>\")\n",
    "        except ValueError as e:\n",
    "            display(Markdown(str(e)))"
   ]
  },
  {
   "cell_type": "code",
   "execution_count": 27,
   "id": "36472bab",
   "metadata": {},
   "outputs": [],
   "source": [
    "def display_analysis_heading(title):\n",
    "    # Generate an HTML heading for analysis\n",
    "    analysis_heading = f\"<h2 style='color: green; font-weight: bold;'>{title}</h2>\"\n",
    "    \n",
    "    # Display the HTML heading\n",
    "    display(HTML(analysis_heading))\n",
    "\n",
    "def display_title(title):\n",
    "    # Display the title of the program\n",
    "    console_width = 140\n",
    "    print(title.center(console_width), \"\\n\")"
   ]
  },
  {
   "cell_type": "code",
   "execution_count": 28,
   "id": "f0bc648f",
   "metadata": {},
   "outputs": [],
   "source": [
    "def analyze_personal_info(data, num_personal_info_cols):\n",
    "    profile_analysis = {}\n",
    "    for column in data.columns[:num_personal_info_cols]:\n",
    "        counts = data[column].value_counts()\n",
    "        total = len(data[column])\n",
    "        percentages = (counts / total * 100).round(0).astype(int)\n",
    "        profile_analysis[column] = pd.DataFrame({\n",
    "            'Measure': counts.index,\n",
    "            'Frequency': counts.values,\n",
    "            'Percentage': percentages.astype(str) + '%'\n",
    "        })\n",
    "    return profile_analysis\n",
    "\n",
    "\n",
    "def interpret_verbal(mean, reverse_mapping):\n",
    "    mean_rounded = round(mean)\n",
    "    return reverse_mapping.get(mean_rounded, \"No interpretation available\")"
   ]
  },
  {
   "cell_type": "code",
   "execution_count": 29,
   "id": "a47a2e9f",
   "metadata": {},
   "outputs": [],
   "source": [
    "def display_profile_table(profile_analysis, data):\n",
    "    # Display Dash DataTable for profile analysis\n",
    "    app = dash.Dash(__name__)\n",
    "\n",
    "    app.layout = html.Div([\n",
    "        html.Div([\n",
    "            dcc.Dropdown(\n",
    "                id='profile-dropdown',\n",
    "                options=[{'label': column, 'value': column} for column in profile_analysis.keys()],\n",
    "                value=list(profile_analysis.keys())[0]\n",
    "            ),\n",
    "            dash_table.DataTable(\n",
    "                id='profile-table',\n",
    "                columns=[\n",
    "                    {'name': 'Measure', 'id': 'Measure'},\n",
    "                    {'name': 'Frequency', 'id': 'Frequency'},\n",
    "                    {'name': 'Percentage', 'id': 'Percentage'}\n",
    "                ],\n",
    "                style_table={'overflowX': 'auto'},\n",
    "                style_cell={'minWidth': 95},\n",
    "            ),\n",
    "            html.Div([\n",
    "                dcc.Graph(id='profile-pie-chart', style={'height': '350px', 'width': '800px'})\n",
    "            ], style={'display': 'flex', 'justify-content': 'center'}),  # Center the pie chart\n",
    "            html.Div(id='verbal-interpretation', style={'color': 'black', 'text-align': 'center', 'font-weight': 'bold'})\n",
    "        ]),\n",
    "    ])\n",
    "\n",
    "    @app.callback(\n",
    "        [Output('profile-table', 'data'), Output('verbal-interpretation', 'children'), Output('profile-pie-chart', 'figure')],\n",
    "        [Input('profile-dropdown', 'value')]\n",
    "    )\n",
    "    def update_table(selected_column):\n",
    "        df = profile_analysis[selected_column]\n",
    "\n",
    "        # Find the response with the highest percentage\n",
    "        highest_percentage_row = df[df['Percentage'] == df['Percentage'].max()]\n",
    "        highest_percentage_response = highest_percentage_row.iloc[0]['Measure']\n",
    "        highest_percentage = highest_percentage_row.iloc[0]['Percentage']\n",
    "\n",
    "        # Find the response with the lowest percentage\n",
    "        lowest_percentage_row = df[df['Percentage'] == df['Percentage'].min()]\n",
    "        lowest_percentage_response = lowest_percentage_row.iloc[0]['Measure']\n",
    "        lowest_percentage = lowest_percentage_row.iloc[0]['Percentage']\n",
    "\n",
    "        # Create the verbal interpretation\n",
    "        verbal_interpretation = html.Div([\n",
    "            html.H3(f\"VERBAL INTERPRETATION [Demographic 1 : {selected_column}]\", style={'color': 'green', 'text-align': 'center', 'font-weight': 'bold'}),\n",
    "            html.P(f\"\\nAccording to the result of '{selected_column}' demographics, '{highest_percentage_response}' has the highest number of respondents with {highest_percentage} while the lowest is '{lowest_percentage_response}' with {lowest_percentage}\"),\n",
    "        ])\n",
    "\n",
    "        # Create pie chart\n",
    "        fig = px.pie(df, values='Frequency', names='Measure', title=f'{selected_column} Distribution')\n",
    "\n",
    "        return df.to_dict('records'), verbal_interpretation, fig\n",
    "\n",
    "    app.run_server(port=8050, use_reloader=False)"
   ]
  },
  {
   "cell_type": "code",
   "execution_count": 30,
   "id": "57542b1b",
   "metadata": {},
   "outputs": [],
   "source": [
    "def analyze_category(data, categories, num_personal_info_cols, reverse_categorical_mappings):\n",
    "    category_analysis = {}\n",
    "    overall_analysis = []\n",
    "    overall_n = []\n",
    "    for category, questions in categories.items():\n",
    "        valid_questions = [q for q in questions if q in data.columns[num_personal_info_cols:]]\n",
    "        if not valid_questions:\n",
    "            print(f\"Warning: No valid questions found for category '{category}'. Skipping this category.\")\n",
    "            continue\n",
    "\n",
    "        category_data = data[valid_questions]\n",
    "        n = len(category_data)\n",
    "        mean = category_data.mean(numeric_only=True)\n",
    "        std_dev = category_data.std(numeric_only=True)\n",
    "\n",
    "        # Creating a list for the category analysis\n",
    "        analysis_data = []\n",
    "        \n",
    "        #For each question and overall category\n",
    "        for question in valid_questions:\n",
    "            interpretation = interpret_verbal(mean[question], reverse_categorical_mappings)\n",
    "            analysis_data.append([question, n, f\"{mean[question]:.2f}\", f\"{std_dev[question]:.2f}\", interpretation])\n",
    "\n",
    "        # Calculate category averages\n",
    "        total_mean = mean.mean()\n",
    "        total_std_dev = std_dev.mean()\n",
    "        total_interpretation = interpret_verbal(total_mean, reverse_categorical_mappings)\n",
    "        analysis_data.append([f\"{category} OVERALL\", n, f\"{total_mean:.2f}\", f\"{total_std_dev:.2f}\", total_interpretation])\n",
    "        category_analysis[category] = analysis_data\n",
    "\n",
    "        # Collect data for overall analysis\n",
    "        overall_n.append(n)\n",
    "        if analysis_data:\n",
    "            overall_analysis.append([category, n, f\"{total_mean:.2f}\", f\"{total_std_dev:.2f}\", total_interpretation])\n",
    "\n",
    "    # Add overall row in overall analysis\n",
    "    if overall_analysis:\n",
    "        overall_avg_n = np.mean(overall_n)\n",
    "        overall_means = np.mean([float(row[2]) for row in overall_analysis])\n",
    "        overall_stdevs = np.mean([float(row[3]) for row in overall_analysis])\n",
    "        overall_interpretation = interpret_verbal(overall_means, reverse_categorical_mappings)\n",
    "        overall_analysis.append([\"OVERALL\", overall_avg_n, f\"{overall_means:.2f}\", f\"{overall_stdevs:.2f}\", overall_interpretation])\n",
    "\n",
    "    return category_analysis, overall_analysis"
   ]
  },
  {
   "cell_type": "code",
   "execution_count": 31,
   "id": "4a38a3aa",
   "metadata": {},
   "outputs": [],
   "source": [
    "def display_category_analysis(category_analysis, overall_analysis, data):\n",
    "    app = Dash(__name__)\n",
    "\n",
    "    # Define the layout\n",
    "    app.layout = html.Div([\n",
    "        html.Div([\n",
    "            dcc.Dropdown(\n",
    "                id='category-dropdown',\n",
    "                options=[{'label': category, 'value': category} for category in category_analysis.keys()],\n",
    "                value=list(category_analysis.keys())[0]\n",
    "            ),\n",
    "            dash_table.DataTable(\n",
    "                id='category-table',\n",
    "                columns=[\n",
    "                    {'name': 'Question', 'id': 'Question'},\n",
    "                    {'name': 'N', 'id': 'N'},\n",
    "                    {'name': 'Mean', 'id': 'Mean'},\n",
    "                    {'name': 'Std Dev', 'id': 'Std Dev'},\n",
    "                    {'name': 'Interpretation', 'id': 'Interpretation'}\n",
    "                ],\n",
    "                style_table={'overflowX': 'auto'},\n",
    "                style_cell={'minWidth': 95},\n",
    "            )\n",
    "        ]),\n",
    "        html.Div(\n",
    "            id='verbal-interpretation',\n",
    "            style={\n",
    "                'margin': 'auto',\n",
    "                'text-align': 'center',\n",
    "            }\n",
    "        )\n",
    "    ])\n",
    "\n",
    "    # Define the callback\n",
    "    @app.callback(\n",
    "        [Output('category-table', 'data'), Output('verbal-interpretation', 'children')],\n",
    "        [Input('category-dropdown', 'value')]\n",
    "    )\n",
    "    def update_category_table(selected_category):\n",
    "        df = pd.DataFrame(category_analysis[selected_category], columns=['Question', 'N', 'Mean', 'Std Dev', 'Interpretation'])\n",
    "\n",
    "        # Find highest and lowest mean scores\n",
    "        highest = df.iloc[df['Mean'].idxmax()]\n",
    "        lowest = df.iloc[df['Mean'].idxmin()]\n",
    "\n",
    "        # Overall assessment for the category\n",
    "        overall_mean = df['Mean'].astype(float).mean()\n",
    "        overall_assessment = mean_to_category(overall_mean)\n",
    "\n",
    "        # Prepare verbal interpretation content\n",
    "        \n",
    "        interpretation_content = html.Div([\n",
    "            # If you need to display the selected question, define `selected_question` appropriately\n",
    "            html.H3(\"VERBAL INTERPRETATION\", style={'color': 'green', 'text-align': 'center', 'font-weight': 'bold'}),\n",
    "            html.Center(html.P(f\"In '{selected_category}', the highest scoring question is '{highest['Question']}' with a mean score of {highest['Mean']} ({highest['Interpretation']}), while the lowest is '{lowest['Question']}' with a score of {lowest['Mean']} ({lowest['Interpretation']}),\", style={'font-weight': 'bold'})),\n",
    "            html.Center(html.P(f\"Overall, this category rates as {overall_assessment} with an average score of {overall_mean:.2f},\", style={'font-weight': 'bold'}))\n",
    "        ])\n",
    "\n",
    "        return df.to_dict('records'), interpretation_content\n",
    "\n",
    "    # Additional layout elements for overall analysis\n",
    "    if overall_analysis:\n",
    "        overall_df = pd.DataFrame(overall_analysis, columns=['Category', 'N', 'Mean', 'Std Dev', 'Interpretation'])\n",
    "\n",
    "        # Modify the last row's category to \"OVERALL\"\n",
    "        if not overall_df.empty:\n",
    "            overall_df.at[len(overall_df) - 1, 'Category'] = \"OVERALL\"\n",
    "\n",
    "        # Create Overall Analysis Table\n",
    "        overall_table = dash_table.DataTable(\n",
    "            id='overall-table',\n",
    "            columns=[\n",
    "                {'name': 'Category', 'id': 'Category'},\n",
    "                {'name': 'N', 'id': 'N'},\n",
    "                {'name': 'Mean', 'id': 'Mean'},\n",
    "                {'name': 'Std Dev', 'id': 'Std Dev'},\n",
    "                {'name': 'Interpretation', 'id': 'Interpretation'}\n",
    "            ],\n",
    "            data=overall_df.to_dict('records'),\n",
    "            style_table={'overflowX': 'auto'},\n",
    "            style_cell={'minWidth': 95},\n",
    "        )\n",
    "\n",
    "        # Find highest and lowest mean scores across all categories\n",
    "        highest = overall_df.iloc[overall_df['Mean'].astype(float).idxmax()]\n",
    "        lowest = overall_df.iloc[overall_df['Mean'].astype(float).idxmin()]\n",
    "\n",
    "        # Overall assessment for the overall analysis\n",
    "        overall_mean = overall_df['Mean'].astype(float).mean()\n",
    "        overall_assessment = mean_to_category(overall_mean)\n",
    "\n",
    "        # Prepare verbal interpretation content for overall analysis\n",
    "        overall_interpretation_content = html.Div([\n",
    "            html.H3(\"OVERALL VERBAL INTERPRETATION\", style={'color': 'green', 'text-align': 'center', 'font-weight': 'bold'}),\n",
    "            html.Center(html.P(f\"In the overall analysis, the highest scoring category is '{highest['Category']}' with a mean score of {highest['Mean']} ({highest['Interpretation']}), while the lowest is '{lowest['Category']}' with a score of {lowest['Mean']} ({lowest['Interpretation']}),\", style={'font-weight': 'bold'})),\n",
    "            html.Center(html.P(f\"Overall, the analysis rates as {overall_assessment} with an average score of {overall_mean:.2f},\", style={'font-weight': 'bold'}))\n",
    "        ])\n",
    "\n",
    "\n",
    "        app.layout.children.append(html.Div([html.H3('Overall Analysis'), overall_table, overall_interpretation_content]))\n",
    "\n",
    "    # Run the server\n",
    "    app.run_server(port=8051, use_reloader=False)"
   ]
  },
  {
   "cell_type": "code",
   "execution_count": 32,
   "id": "d60248af",
   "metadata": {},
   "outputs": [],
   "source": [
    "def interpret_verbal(mean, reverse_mapping):\n",
    "    mean_rounded = round(mean)\n",
    "    return reverse_mapping.get(mean_rounded, \"No interpretation available\")"
   ]
  },
  {
   "cell_type": "code",
   "execution_count": 33,
   "id": "ad471d5a",
   "metadata": {},
   "outputs": [],
   "source": [
    "def mean_to_category(mean_value):\n",
    "    if mean_value >= 4:\n",
    "        return 'Very High'\n",
    "    elif mean_value >= 3:\n",
    "        return 'High'\n",
    "    elif mean_value >= 2:\n",
    "        return 'Medium'\n",
    "    else:\n",
    "        return 'Low'"
   ]
  },
  {
   "cell_type": "code",
   "execution_count": 34,
   "id": "64702567",
   "metadata": {},
   "outputs": [],
   "source": [
    "def convert_categorical_to_numeric(data, categories):\n",
    "    converted_data = data.copy()\n",
    "    for category, mappings in categories.items():\n",
    "        if category in converted_data.columns:\n",
    "            converted_data[category] = converted_data[category].map(mappings)\n",
    "    return converted_data"
   ]
  },
  {
   "cell_type": "code",
   "execution_count": 35,
   "id": "08d3a491",
   "metadata": {},
   "outputs": [],
   "source": [
    "def display_combined_correlation_heatmaps(cleaned_data, num_personal_info_cols, categories):\n",
    "    # Set font style with Times New Roman\n",
    "    font_style = {'family': 'serif', 'weight': 'bold', 'fontname': 'Times New Roman'}\n",
    "\n",
    "    # Heatmap for Individual Questions\n",
    "    survey_questions_data = cleaned_data.iloc[:, num_personal_info_cols:]\n",
    "    corr_matrix_questions = survey_questions_data.corr()\n",
    "    plt.figure(figsize=(12, 8))\n",
    "    \n",
    "    # Use a green colormap for the heatmap\n",
    "    ax1 = sns.heatmap(corr_matrix_questions, annot=True, cmap='YlGnBu', fmt=\".2f\", cbar=False)\n",
    "    ax1.set_title(\"Individual Question Correlation Heatmap\", fontdict=font_style)\n",
    "    \n",
    "    # Numbering format for x-axis labels\n",
    "    x_labels = [f'Q{i}' for i in range(1, len(corr_matrix_questions.columns) + 1)]\n",
    "    ax1.set_xticklabels(x_labels, rotation=90, va=\"center\", position=(0, -0.05))\n",
    "    \n",
    "    # Numbering format for y-axis labels\n",
    "    y_labels = [f'Q{i}' for i in range(1, len(corr_matrix_questions.columns) + 1)]\n",
    "    ax1.set_yticklabels(y_labels, rotation=0)\n",
    "    \n",
    "    ax1.xaxis.tick_top()  # Move x-axis labels to top\n",
    "    plt.show()\n",
    "\n",
    "    # Displaying verbal interpretation for Individual Questions\n",
    "    display_top_relationships(corr_matrix_questions)\n",
    "\n",
    "    # Heatmap for Categories\n",
    "    category_data = pd.DataFrame()\n",
    "    for category, questions in categories.items():\n",
    "        category_data[category] = cleaned_data[questions].mean(axis=1)\n",
    "\n",
    "    corr_matrix_categories = category_data.corr()\n",
    "    plt.figure(figsize=(12, 8))\n",
    "    \n",
    "    # Use a green colormap for the heatmap\n",
    "    ax2 = sns.heatmap(corr_matrix_categories, annot=True, cmap='YlGnBu', fmt=\".2f\", cbar=False)\n",
    "    ax2.set_title(\"Category Correlation Heatmap\", fontdict=font_style)\n",
    "    \n",
    "    ax2.xaxis.tick_top()  # Move x-axis labels to top\n",
    "    plt.show()\n",
    "\n",
    "    # Displaying verbal interpretation for Categories\n",
    "    display_top_relationships(corr_matrix_categories)\n"
   ]
  },
  {
   "cell_type": "code",
   "execution_count": 36,
   "id": "a31ad0ba",
   "metadata": {},
   "outputs": [],
   "source": [
    "def display_top_relationships(corr_matrix):\n",
    "    corr_pairs = corr_matrix.unstack()\n",
    "    sorted_pairs = corr_pairs.sort_values(kind=\"quicksort\", ascending=False)\n",
    "    strong_pairs = sorted_pairs[sorted_pairs != 1]\n",
    "\n",
    "    # Filter out repeated pairs\n",
    "    seen_pairs = set()\n",
    "    unique_top_pairs = []\n",
    "    for pair, value in strong_pairs.items():\n",
    "        if pair[::-1] not in seen_pairs and pair[0] != pair[1]:\n",
    "            seen_pairs.add(pair)\n",
    "            unique_top_pairs.append((pair, value))\n",
    "            if len(unique_top_pairs) == 3:\n",
    "                break\n",
    "\n",
    "    # HTML Output for the top 3 relationships\n",
    "    html_output = '<h2 style=\"color: green; text-align: center; font-weight: bold; font-family: Times New Roman;\">VERBAL INTERPRETATION - Top 3 Strong Positive Relationships</h2>'\n",
    "    for pair, value in unique_top_pairs:\n",
    "        relationship = f\"The variables '{pair[0]}' and '{pair[1]}' show a strong positive correlation: {value:.2f}\"\n",
    "        html_output += f'<p style=\"text-align: center; font-weight: bold; font-family: Times New Roman;\">{relationship}</p>'\n",
    "\n",
    "    display(HTML(html_output))"
   ]
  },
  {
   "cell_type": "code",
   "execution_count": 37,
   "id": "a30b85d6",
   "metadata": {},
   "outputs": [],
   "source": [
    "def compute_significant_differences(data, num_personal_info_cols, categories):\n",
    "    results = []\n",
    "    # Calculate category means\n",
    "    category_means = {category: data[questions].mean(axis=1).mean() for category, questions in categories.items()}\n",
    "\n",
    "    # Loop through each demographic column\n",
    "    for i in range(num_personal_info_cols):\n",
    "        demographic_column = data.columns[i]\n",
    "        unique_demographics = data[demographic_column].unique()\n",
    "        \n",
    "        # Loop through each category\n",
    "        for category, category_mean in category_means.items():\n",
    "            # Calculate mean for each demographic within the category\n",
    "            for demo in unique_demographics:\n",
    "                demo_data = data[data[demographic_column] == demo][categories[category]].mean(axis=1)\n",
    "                demo_data = demo_data[~np.isnan(demo_data)]  # Exclude NaN values\n",
    "\n",
    "                # Check if any column is empty\n",
    "                if demo_data.empty:\n",
    "                    continue\n",
    "\n",
    "                # Perform the t-test against the overall category mean\n",
    "                t_stat, p_val = stats.ttest_1samp(demo_data, category_mean)\n",
    "\n",
    "                # Append the results\n",
    "                results.append({\n",
    "                    'Category': category,\n",
    "                    'Demographic': demographic_column,\n",
    "                    'Group': demo,\n",
    "                    'N': len(demo_data),\n",
    "                    'Mean': f\"{demo_data.mean():.2f}\",\n",
    "                    'Std Dev': f\"{demo_data.std(ddof=1):.4f}\",\n",
    "                    'T-Value': f\"{t_stat:.4f}\",\n",
    "                    'P-Value': f\"{p_val:.4f}\",\n",
    "                    'Significant Difference': 'Yes' if p_val < 0.05 else 'No'\n",
    "                })\n",
    "\n",
    "    return pd.DataFrame(results)"
   ]
  },
  {
   "cell_type": "code",
   "execution_count": 38,
   "id": "8075e509",
   "metadata": {},
   "outputs": [],
   "source": [
    "def display_significant_differences_dashboard(data, num_personal_info_cols, categories):\n",
    "    sig_diffs_df = compute_significant_differences(data, num_personal_info_cols, categories)\n",
    "\n",
    "    app = dash.Dash(__name__, external_stylesheets=['https://codepen.io/chriddyp/pen/bWLwgP.css'])\n",
    "\n",
    "    # Define the font style\n",
    "    font_style = {'font-family': 'Times New Roman'}\n",
    "\n",
    "    app.layout = html.Div([\n",
    "        dcc.Dropdown(\n",
    "            id='demographic-dropdown',\n",
    "            options=[{'label': col, 'value': col} for col in data.columns[:num_personal_info_cols]],\n",
    "            value=data.columns[0]\n",
    "        ),\n",
    "        dash_table.DataTable(\n",
    "            id='sig-diffs-table',\n",
    "            columns=[{\"name\": i, \"id\": i} for i in sig_diffs_df.columns],\n",
    "            data=sig_diffs_df.to_dict('records'),\n",
    "            style_table={'overflowX': 'auto'},\n",
    "        ),\n",
    "        html.Div(id='verbal-interpretation', style=font_style)\n",
    "    ])\n",
    "\n",
    "    @app.callback(\n",
    "        Output('sig-diffs-table', 'data'),\n",
    "        Output('verbal-interpretation', 'children'),\n",
    "        [Input('demographic-dropdown', 'value')]\n",
    "    )\n",
    "    def update_dashboard(selected_demographic):\n",
    "        filtered_data = sig_diffs_df[sig_diffs_df['Demographic'] == selected_demographic]\n",
    "        significant_diffs = filtered_data[filtered_data['Significant Difference'] == 'Yes']\n",
    "\n",
    "        if significant_diffs.empty:\n",
    "            verbal_summary = html.P(f\"No significant differences found for the demographic: {selected_demographic}.\", \n",
    "                                    style={'text-align': 'center', 'font-weight': 'bold'})\n",
    "        else:\n",
    "            categories_with_diffs = ', '.join(significant_diffs['Category'].unique())\n",
    "            verbal_summary = html.P(f\"Significant differences found for the demographic: {selected_demographic} in categories: {categories_with_diffs}.\", \n",
    "                                    style={'text-align': 'center', 'font-weight': 'bold'})\n",
    "\n",
    "        # Make \"VERBAL INTERPRETATION\" and interpretation in bold font\n",
    "        return filtered_data.to_dict('records'), html.Div([\n",
    "            html.H3(\"VERBAL INTERPRETATION\", style={'text-align': 'center', 'color': 'green', 'font-family': 'Times New Roman', 'font-weight': 'bold'}),\n",
    "            verbal_summary\n",
    "        ])\n",
    "\n",
    "    app.run_server(debug=True)\n"
   ]
  },
  {
   "cell_type": "code",
   "execution_count": 39,
   "id": "3ef0a86e",
   "metadata": {},
   "outputs": [],
   "source": [
    "def generate_verbal_interpretation(selected_question, data):\n",
    "    selected_data = data[selected_question]\n",
    "    highest_response_option = selected_data.value_counts().idxmax()\n",
    "    highest_response_count = selected_data.value_counts().max()\n",
    "    total_respondents = len(selected_data)\n",
    "    percentage = (highest_response_count / total_respondents) * 100\n",
    "    mean_value = selected_data.mean()\n",
    "    \n",
    "    interpretation = html.Div([\n",
    "        html.H3(f\"VERBAL INTERPRETATION: '{selected_question}\", style={'color': 'green', 'text-align': 'center', 'font-weight': 'bold'}),\n",
    "        html.P(f\"\\nThe data of '{selected_question}' shows that the option with the highest responses is '{highest_response_option}' with {highest_response_count} respondents, accounting for {percentage:.2f}% of the total. The calculated mean for '{selected_question}' is {mean_value:.2f}.\"),\n",
    "    ])\n",
    "\n",
    "    return interpretation"
   ]
  },
  {
   "cell_type": "code",
   "execution_count": 40,
   "id": "510bb6bb",
   "metadata": {},
   "outputs": [],
   "source": [
    "def run_interactive_dashboard(data, num_personal_info_cols):\n",
    "    app = dash.Dash(__name__)\n",
    "\n",
    "    # Filter out personal info columns from survey_questions\n",
    "    survey_questions = [q for q in data.columns if q not in data.columns[:num_personal_info_cols]]\n",
    "\n",
    "    app.layout = html.Div([\n",
    "        dcc.Dropdown(\n",
    "            id='question-dropdown',\n",
    "            options=[{'label': q, 'value': q} for q in survey_questions],\n",
    "            value=survey_questions[0]\n",
    "        ),\n",
    "        dcc.Graph(id='question-graph'),\n",
    "        html.Div(id='verbal-interpretation', style={'color': 'black', 'text-align': 'center', 'font-weight': 'bold'})\n",
    "    ])\n",
    "\n",
    "    @app.callback(\n",
    "        [Output('question-graph', 'figure'), Output('verbal-interpretation', 'children')],\n",
    "        [Input('question-dropdown', 'value')]\n",
    "    )\n",
    "    def update_graph(selected_question):\n",
    "        filtered_data = data[selected_question].value_counts()\n",
    "        fig = px.bar(\n",
    "            filtered_data,\n",
    "            x=filtered_data.index,\n",
    "            y=filtered_data.values,\n",
    "            labels={'x': selected_question, 'y': 'Counts'},\n",
    "            color_discrete_sequence=['green']  # Set the color to green\n",
    "        )\n",
    "\n",
    "        # Generate the verbal interpretation based on the selected question\n",
    "        interpretation = generate_verbal_interpretation(selected_question, data)\n",
    "\n",
    "        return fig, interpretation\n",
    "    \n",
    "    app.run_server(port=8053, use_reloader=False)"
   ]
  },
  {
   "cell_type": "code",
   "execution_count": 41,
   "id": "11ba311e",
   "metadata": {},
   "outputs": [],
   "source": [
    "def main():\n",
    "    title = \"<h1 style='color:white; background-color:green; font-size:24px; padding:10px; text-align:center;'>SURVEY DATA ANALYSIS AUTOMATION SYSTEM</h1>\"\n",
    "    display(HTML(title))\n",
    "\n",
    "    # Display usage guidelines and confirm if the user understands them\n",
    "    if not display_usage_guidelines():\n",
    "        return\n",
    "\n",
    "    # Add the H2 title for dataset collection\n",
    "    dataset_collection_title = \"<h2 style='font-size:20px; color:green;'>COLLECTION AND CLEANING OF SURVEY DATASET</h2>\"\n",
    "    display(HTML(dataset_collection_title))\n",
    "\n",
    "    instructions = \"\"\"\n",
    "    <p style='font-family:Arial;'><b>INSTRUCTION:</b> Please ensure you have the directory path of your survey data file.</p>\n",
    "    <p style='font-family:Arial;'>Your file should be in Excel (.xlsx) format. For example: 'C:/Users/YourName/Documents/survey_data.xlsx'</p>\n",
    "    <p style='font-family:Arial;'>For guidance on how to find your file's directory, visit: <a href='https://www.datanumen.com/blogs/3-effective-methods-to-get-the-path-of-the-current-excel-workbook/'>here</a>.</p>\n",
    "    \"\"\"\n",
    "    display(HTML(instructions))\n",
    "\n",
    "    while True:\n",
    "        try:\n",
    "            display(HTML(\"<p><b>Enter the directory path of your survey data file:</b></p>\"))\n",
    "            filename = input()\n",
    "            data = load_survey_data(filename)\n",
    "            if data is None:\n",
    "                raise ValueError(\"<font color='red'><b>Error:</b></font>\")\n",
    "            break\n",
    "        except ValueError as e:\n",
    "            display(Markdown(f\"\\n<font color='red'><b>Error:</b><b> No data loaded. Please check your file path and ensure it's an Excel file. Please try again.</font></b>\"))\n",
    "\n",
    "\n",
    "    if data is not None:\n",
    "        while True:\n",
    "            try:\n",
    "                display(HTML(\"<font style='font-family:Arial;'><b>Enter the number of columns with demographics of the respondents, for example, age, gender, and/or location (You may refer to USAGE GUIDELINES No.2 for further instruction.):</b></font> \"))\n",
    "                num_personal_info_cols = int(input())\n",
    "                if num_personal_info_cols < 1 or not isinstance(num_personal_info_cols, int):\n",
    "                    raise ValueError(\"<font color='red'><b>Error:</b></font>\")\n",
    "                break\n",
    "            except ValueError as e:\n",
    "                display(Markdown(f\"\\n<font color='red'><b>Error:</b><b> Number of personal info/demographics columns should be greater than 0 and less than the total columns. Please enter a valid number.</font></b>\"))\n",
    "\n",
    "        while True:\n",
    "            try:\n",
    "                display(HTML(\"<font style='font-family:Arial;'><b>Choose how to handle missing data (1: Drop, 2: Fill with mean/mode, 3: Fill with a value):</font> \"))\n",
    "                choice = int(input())\n",
    "                if choice not in [1, 2, 3]:\n",
    "                    raise ValueError(\"<font color='red'><b>Error:</b></font>\")\n",
    "                break\n",
    "            except ValueError as e:\n",
    "                display(Markdown(f\"\\n<font color='red'><b>Error:</b><b> Please enter a valid choice (1, 2, or 3).</font></b>\"))\n",
    "                \n",
    "        cleaned_data = preprocess_data(data, num_personal_info_cols, choice, {})\n",
    "\n",
    "        # Get user's analysis selection\n",
    "        selected_analysis = display_menu()\n",
    "\n",
    "        # Map non-numeric responses to numeric values\n",
    "        categorical_mappings = display_categorical_mappings(data, num_personal_info_cols)\n",
    "        cleaned_data = preprocess_data(data, num_personal_info_cols, choice, categorical_mappings)\n",
    "        \n",
    "        #Profile of the Respondents Analysis\n",
    "        if '1' in selected_analysis or 'all' in selected_analysis:\n",
    "            analysis_title = \"I. PROFILE OF THE RESPONDENTS\"\n",
    "\n",
    "            # Display the analysis heading\n",
    "            display_analysis_heading(analysis_title)\n",
    "            \n",
    "            # Display all tables for personal information or profile of the respondents\n",
    "            profile_analysis = analyze_personal_info(cleaned_data, num_personal_info_cols)\n",
    "            display_profile_table(profile_analysis, data)\n",
    "        \n",
    "        #Factor/Category Analysis\n",
    "        if '2' in selected_analysis or 'all' in selected_analysis:\n",
    "            print()  # Add a newline to separate sections\n",
    "            display_analysis_heading(\"II. CATEGORY/FACTOR ANALYSIS\")  # This line should not have code inside {}\n",
    "\n",
    "            # Updated instruction with HTML formatting\n",
    "            instruction_html = \"\"\"\n",
    "            <font color='black'><b>DESCRIPTION:</b></font> This program capability enables you to analyze your survey questions grouped under a single category. \n",
    "            This feature is particularly useful when you want to assess questions that measure a specific factor or category.<br><br>\n",
    "            In your survey data file, each question is assigned a unique number for your convenience (Q1, Q2, Q3..). \n",
    "            This means you no longer need to copy and paste questions. Instead, you can simply input the corresponding question number.\"\n",
    "            \"\"\"\n",
    "\n",
    "            # Display the updated instruction using HTML\n",
    "            display(HTML(instruction_html))\n",
    "\n",
    "            # Display survey questions with HTML formatting and numbering\n",
    "            questions_html = \"\"\n",
    "            for i, question in enumerate(cleaned_data.columns[num_personal_info_cols:], start=1):\n",
    "                questions_html += f\"Q{i}. {question}<br>\"\n",
    "\n",
    "            display(HTML(questions_html))\n",
    "\n",
    "\n",
    "            # Ask for categories and questions under each category\n",
    "            # Ask for categories and questions under each category\n",
    "            categories = {}\n",
    "            instruction_html = \"<font color='black'><b>INSTRUCTION:</b></font> Please specify the titles for each of your categories and their respective questions by entering the corresponding question numbers from the list above. Once you have listed all of the categories, simply type 'done' to continue.\"\n",
    "\n",
    "            # Display the instruction with HTML formatting\n",
    "            display(HTML(instruction_html))\n",
    "\n",
    "            # Display the example input message with HTML formatting\n",
    "            example_inputs_html = \"<font color='black'><b> EXAMPLE:</b></font><br>     Enter the 1st category title (or 'done' to finish): ENTERTAINMENT<br>     Enter the question numbers for the ‘ENTERTAINMENT category, separated by commas. (Please refer to the numbered questions above): Q1, Q2, Q3, Q4\"\n",
    "            display(HTML(example_inputs_html))\n",
    "\n",
    "            def ordinal(n):\n",
    "                if 10 <= n % 100 <= 20:\n",
    "                    suffix = 'th'\n",
    "                else:\n",
    "                    suffix = {1: 'st', 2: 'nd', 3: 'rd'}.get(n % 10, 'th')\n",
    "                return f\"{n}{suffix}\"\n",
    "\n",
    "            categories = {}\n",
    "            category_number = 1\n",
    "            BOLD = \"\\033[1m\"\n",
    "            BLACK = \"\\033[30m\"\n",
    "\n",
    "            # Main loop to enter categories and questions\n",
    "            while True:\n",
    "                try:\n",
    "                    # Prompt for the category title\n",
    "                    category_name = input(f\"{BLACK}{BOLD}Enter the {ordinal(category_number)} category title (or 'done' to finish): {BOLD}\")\n",
    "                    if category_name.lower() == 'done':\n",
    "                        break\n",
    "\n",
    "                    # Prompt for question numbers\n",
    "                    while True:\n",
    "                        question_nums = input(f\"{BLACK}{BOLD}Enter the question numbers for the '{category_name}' category, separated by commas. (Please refer to the numbered questions above. Enter as Q1, Q2, Q3, Q4): {BOLD} \")\n",
    "                        try:\n",
    "                            # Process question numbers and get corresponding questions\n",
    "                            question_indices = []\n",
    "                            for num in question_nums.split(','):\n",
    "                                num = num.strip().upper()  # Convert to uppercase and remove spaces\n",
    "                                if not num.startswith(\"Q\") or not num[1:].isdigit():\n",
    "                                    raise ValueError(\"<font color='red'><b>Error: Invalid input format. Please enter question numbers as Q1, Q2, Q3, etc. You may refer to the list provided above.</b></font>\")\n",
    "                                index = int(num[1:]) - 1\n",
    "                                if index < 0 or index >= len(cleaned_data.columns) - num_personal_info_cols:\n",
    "                                    raise ValueError(f\"<font color='red'><b>Error: Invalid question number '{num}'. Please enter a valid question number within the provided list.</b></font>\")\n",
    "                                question_indices.append(index)\n",
    "\n",
    "                            questions = [cleaned_data.columns[num_personal_info_cols + i] for i in question_indices]\n",
    "\n",
    "                            # Store the category and its questions\n",
    "                            categories[category_name] = questions\n",
    "\n",
    "                            # Increment category number\n",
    "                            category_number += 1\n",
    "                            break  # Exit the loop if input is valid\n",
    "\n",
    "                        except ValueError as e:\n",
    "                            display(HTML(f\"<font color='red'><b>{e}</b></font>\"))\n",
    "\n",
    "                        except KeyboardInterrupt:\n",
    "                            print(\"\\nProcess interrupted.\")\n",
    "\n",
    "                except KeyboardInterrupt:\n",
    "                    print(\"\\nProcess interrupted.\")\n",
    "\n",
    "            # Define reverse_categorical_mappings here if necessary\n",
    "            reverse_categorical_mappings = {\n",
    "                1: 'Low',\n",
    "                2: 'Medium',\n",
    "                3: 'High',\n",
    "                4: 'Very High'\n",
    "            }\n",
    "\n",
    "            if categories:\n",
    "                category_analysis, overall_analysis = analyze_category(cleaned_data, categories, num_personal_info_cols,\n",
    "                                                                        reverse_categorical_mappings)\n",
    "                display_category_analysis(category_analysis, overall_analysis, data)\n",
    "    \n",
    "        #Correlational Analysis\n",
    "        if '3' in selected_analysis or 'all' in selected_analysis:\n",
    "            display_analysis_heading(\"III. CORRELATIONAL ANALYSIS\")\n",
    "\n",
    "            # Display the correlation heatmap\n",
    "            display_combined_correlation_heatmaps(cleaned_data, num_personal_info_cols, categories)\n",
    "            \n",
    "        #Significant Difference Analysis\n",
    "        if '4' in selected_analysis or 'all' in selected_analysis:\n",
    "            display_analysis_heading(\"IV. SIGNIFICANT DIFFERENCES BETWEEN PROFILE OF THE RESPONDENTS AND SURVEY RESPONSES\")\n",
    "            display_significant_differences_dashboard(cleaned_data, num_personal_info_cols, categories)\n",
    "        \n",
    "        #Individual Analysis\n",
    "        if '5' in selected_analysis or 'all' in selected_analysis:\n",
    "            display_analysis_heading(\"V. INDIVIDUAL ANALYSIS FOR ALL QUESTIONS\")\n",
    "\n",
    "            # Run interactive dashboard\n",
    "            run_interactive_dashboard(data, num_personal_info_cols)"
   ]
  },
  {
   "cell_type": "code",
   "execution_count": 42,
   "id": "a52a1bd9",
   "metadata": {},
   "outputs": [],
   "source": [
    "# Use a context manager to temporarily filter out the specific warning\n",
    "with warnings.catch_warnings():\n",
    "    warnings.filterwarnings(\"ignore\", category=RuntimeWarning, message=\"Precision loss occurred in moment calculation due to catastrophic cancellation.\")\n",
    "\n",
    "def custom_warning_filter(message, category, filename, lineno, file=None, line=None):\n",
    "    if \"Precision loss occurred in moment calculation due to catastrophic cancellation\" in str(message):\n",
    "        return None\n",
    "    else:\n",
    "        return message, category, filename, lineno, line\n",
    "\n",
    "# Apply the custom warning filter\n",
    "warnings.showwarning = custom_warning_filter"
   ]
  },
  {
   "cell_type": "code",
   "execution_count": 43,
   "id": "21dae63c",
   "metadata": {
    "scrolled": false
   },
   "outputs": [
    {
     "data": {
      "text/html": [
       "<h1 style='color:white; background-color:green; font-size:24px; padding:10px; text-align:center;'>SURVEY DATA ANALYSIS AUTOMATION SYSTEM</h1>"
      ],
      "text/plain": [
       "<IPython.core.display.HTML object>"
      ]
     },
     "metadata": {},
     "output_type": "display_data"
    },
    {
     "data": {
      "text/html": [
       "\n",
       "        <h2 style='color:green; font-weight:bold;'>USAGE GUIDELINES:</h2> \n",
       "        <b>Kindly adhere to the following recommendations to minimize errors and achieve the utmost precision in your outcomes.</b>\n",
       "        <br><br>\n",
       "        1. It is recommended to run this code in Jupyter Notebook within the Anaconda environment for\n",
       "        optimal accuracy, as certain features may not be available in other programming environments or languages.<br>\n",
       "        2. File Format: Ensure your survey data is in Excel format (.xlsx).<br>\n",
       "        3. The format of your excel datasets should be presented as follows:<br>\n",
       "        <table>\n",
       "<thead>\n",
       "<tr><th style=\"text-align: right;\">  Age</th><th>Gender  </th><th>Location  </th><th>RTU is a Good School  </th><th>The Facility of RTU is promising  </th><th>BS Satatistics is Easy  </th></tr>\n",
       "</thead>\n",
       "<tbody>\n",
       "<tr><td style=\"text-align: right;\">   15</td><td>Male    </td><td>Manila    </td><td>Agree                 </td><td>Strongly Agree                    </td><td>Disagree                </td></tr>\n",
       "<tr><td style=\"text-align: right;\">   18</td><td>Female  </td><td>Cavite    </td><td>Disagree              </td><td>Agree                             </td><td>Strongly Agree          </td></tr>\n",
       "</tbody>\n",
       "</table>\n",
       "        <p>The first columns in your Excel file should contain demographic or personal information, like Age, Gender, Location, etc.. The remaining columns should contain survey questions</p>\n",
       "        <p>In the example data above, the first three (3) columns are reserved for demographic information (Age, Gender, Location). All columns following these initial three columns are dedicated to survey questions.\n",
       "</p>\n",
       "        \n",
       "        <p>4. Import Libraries: Make sure to install the following required libraries at the beginning of your code:<br>\n",
       "        <pre>\n",
       "        # To install pandas, numpy, matplotlib, seaborn (and upgrade), and scipy:\n",
       "        pip install pandas numpy matplotlib seaborn --upgrade scipy\n",
       "\n",
       "        # To install Dash and related components:\n",
       "        pip install dash dash-core-components dash-html-components dash-table plotly\n",
       "        pip install dash dash-renderer dash-html-components dash-core-components plotly\n",
       "        pip install dash dash-bootstrap-components dash-table\n",
       "\n",
       "        # To install additional libraries:\n",
       "        pip install dash plotly\n",
       "        pip install dash dash-bootstrap-components pandas\n",
       "        pip install tabulate\n",
       "        </pre>\n",
       "        </p>\n",
       "        5. Categorical Mappings: If your survey contains non-numeric responses, consider creating mappings to convert them to numeric values.<br>\n",
       "        6. Interactive Dashboards: Some analysis options provide interactive dashboards. Use dropdown menus and graphs to explore data interactively.<br>\n",
       "        7. Run the code and follow the prompts and instructions.<br>\n",
       "        8. Enjoy Exploring Your Survey Data: This automation code simplifies survey data analysis, allowing you to gain valuable insights efficiently.<br><br>\n",
       "        <b>Have you read and taken into account the provided instructions? Please respond with 'yes' or 'no'<b>:\n",
       "        "
      ],
      "text/plain": [
       "<IPython.core.display.HTML object>"
      ]
     },
     "metadata": {},
     "output_type": "display_data"
    },
    {
     "name": "stdout",
     "output_type": "stream",
     "text": [
      "yes\n"
     ]
    },
    {
     "data": {
      "text/html": [
       "<h2 style='font-size:20px; color:green;'>COLLECTION AND CLEANING OF SURVEY DATASET</h2>"
      ],
      "text/plain": [
       "<IPython.core.display.HTML object>"
      ]
     },
     "metadata": {},
     "output_type": "display_data"
    },
    {
     "data": {
      "text/html": [
       "\n",
       "    <p style='font-family:Arial;'><b>INSTRUCTION:</b> Please ensure you have the directory path of your survey data file.</p>\n",
       "    <p style='font-family:Arial;'>Your file should be in Excel (.xlsx) format. For example: 'C:/Users/YourName/Documents/survey_data.xlsx'</p>\n",
       "    <p style='font-family:Arial;'>For guidance on how to find your file's directory, visit: <a href='https://www.datanumen.com/blogs/3-effective-methods-to-get-the-path-of-the-current-excel-workbook/'>here</a>.</p>\n",
       "    "
      ],
      "text/plain": [
       "<IPython.core.display.HTML object>"
      ]
     },
     "metadata": {},
     "output_type": "display_data"
    },
    {
     "data": {
      "text/html": [
       "<p><b>Enter the directory path of your survey data file:</b></p>"
      ],
      "text/plain": [
       "<IPython.core.display.HTML object>"
      ]
     },
     "metadata": {},
     "output_type": "display_data"
    },
    {
     "name": "stdout",
     "output_type": "stream",
     "text": [
      "/Users/rolanddelarosa/Desktop/FoodVlogData.xlsx\n"
     ]
    },
    {
     "data": {
      "text/html": [
       "<font style='font-family:Arial;'><b>Enter the number of columns with demographics of the respondents, for example, age, gender, and/or location (You may refer to USAGE GUIDELINES No.2 for further instruction.):</b></font> "
      ],
      "text/plain": [
       "<IPython.core.display.HTML object>"
      ]
     },
     "metadata": {},
     "output_type": "display_data"
    },
    {
     "name": "stdout",
     "output_type": "stream",
     "text": [
      "6\n"
     ]
    },
    {
     "data": {
      "text/html": [
       "<font style='font-family:Arial;'><b>Choose how to handle missing data (1: Drop, 2: Fill with mean/mode, 3: Fill with a value):</font> "
      ],
      "text/plain": [
       "<IPython.core.display.HTML object>"
      ]
     },
     "metadata": {},
     "output_type": "display_data"
    },
    {
     "name": "stdout",
     "output_type": "stream",
     "text": [
      "2\n"
     ]
    },
    {
     "data": {
      "text/html": [
       "\n",
       "    <h2 style='color:green; font-weight:bold;'>PROGRAM CAPABILITIES</h2>\n",
       "    <p><b>1. DEMOGRAPHICS OF THE RESPONDENTS</b></p>\n",
       "    <p>- Create an interactive table displaying demographics data for respondents, including age, gender, and location. Show measures, frequency, and percentages.</p>\n",
       "    <p><b>2. CATEGORY/FACTOR ANALYSIS</b></p>\n",
       "    <p>- Analyze questions that measure a single factor or category. Provide the titles and questions under each factor/category as an example.</p>\n",
       "    <p><b>3. CORRELATIONAL ANALYSIS</b></p>\n",
       "    <p>- Investigate the presence of positive relationships between survey questions and between factors/categories. Generate a heatmap and highlight the top 3 strong positive relationships.</p>\n",
       "    <p><b>4. SIGNIFICANT DIFFERENCES BETWEEN DATAS</b></p>\n",
       "    <p>- Examine if there are significant differences between respondent demographics and their responses within each factor/category. <i>This analysis should only be conducted after completing the category/factor analysis (Capability No.2).</i></p>\n",
       "    <p><b>5. INDIVIDUAL ANALYSIS FOR ALL QUESTIONS</b></p>\n",
       "    <p>- Perform an individual analysis of all survey questions, presenting them with interactive charts for comprehensive insights.\n",
       "</p>\n",
       "    "
      ],
      "text/plain": [
       "<IPython.core.display.HTML object>"
      ]
     },
     "metadata": {},
     "output_type": "display_data"
    },
    {
     "data": {
      "text/html": [
       "<font style='font-family:Arial;'><b>\n",
       "Select the analysis you want to perform (e.g., '1' for Profile of the Respondents, '1,2,3' for multiple analyses, or 'all' for all analyses):</b></font> "
      ],
      "text/plain": [
       "<IPython.core.display.HTML object>"
      ]
     },
     "metadata": {},
     "output_type": "display_data"
    },
    {
     "name": "stdout",
     "output_type": "stream",
     "text": [
      "all\n"
     ]
    },
    {
     "data": {
      "text/html": [
       "<h2 style='color:green; font-weight:bold;'>NON-NUMERIC RESPONSES CONVERSIONS:</h3>"
      ],
      "text/plain": [
       "<IPython.core.display.HTML object>"
      ]
     },
     "metadata": {},
     "output_type": "display_data"
    },
    {
     "data": {
      "text/html": [
       "\n",
       "        <b>\n",
       "INSTRUCTION:</b> Based on checking, your survey contains non-numeric responses: <u><b>Strongly Agree</b></u>, <u><b>Strongly Disagree</b></u>, <u><b>Disagree</b></u>, <u><b>Agree</b></u><br>\n",
       "        <p>Please convert these non-numeric responses into numeric values so that the system can calculate them.</p>\n",
       "        <h4 style='color:green; font-weight:bold;'>Non-numeric Response Conversion Table Example:</h3>\n",
       "        "
      ],
      "text/plain": [
       "<IPython.core.display.HTML object>"
      ]
     },
     "metadata": {},
     "output_type": "display_data"
    },
    {
     "data": {
      "text/html": [
       "<table>\n",
       "<thead>\n",
       "<tr><th>Non-numeric      </th><th style=\"text-align: right;\">  Numeric Equivalent</th></tr>\n",
       "</thead>\n",
       "<tbody>\n",
       "<tr><td>Very Satisfied   </td><td style=\"text-align: right;\">                   4</td></tr>\n",
       "<tr><td>Satisfied        </td><td style=\"text-align: right;\">                   3</td></tr>\n",
       "<tr><td>Dissatisfied     </td><td style=\"text-align: right;\">                   2</td></tr>\n",
       "<tr><td>Very Dissatisfied</td><td style=\"text-align: right;\">                   1</td></tr>\n",
       "</tbody>\n",
       "</table>"
      ],
      "text/plain": [
       "<IPython.core.display.HTML object>"
      ]
     },
     "metadata": {},
     "output_type": "display_data"
    },
    {
     "data": {
      "text/html": [
       "<p>Please enter the numeric value for <u><b>Strongly Agree</b></u>:</p>"
      ],
      "text/plain": [
       "<IPython.core.display.HTML object>"
      ]
     },
     "metadata": {},
     "output_type": "display_data"
    },
    {
     "name": "stdout",
     "output_type": "stream",
     "text": [
      "4\n"
     ]
    },
    {
     "data": {
      "text/html": [
       "<p>Please enter the numeric value for <u><b>Strongly Disagree</b></u>:</p>"
      ],
      "text/plain": [
       "<IPython.core.display.HTML object>"
      ]
     },
     "metadata": {},
     "output_type": "display_data"
    },
    {
     "name": "stdout",
     "output_type": "stream",
     "text": [
      "1\n"
     ]
    },
    {
     "data": {
      "text/html": [
       "<p>Please enter the numeric value for <u><b>Disagree</b></u>:</p>"
      ],
      "text/plain": [
       "<IPython.core.display.HTML object>"
      ]
     },
     "metadata": {},
     "output_type": "display_data"
    },
    {
     "name": "stdout",
     "output_type": "stream",
     "text": [
      "2\n"
     ]
    },
    {
     "data": {
      "text/html": [
       "<p>Please enter the numeric value for <u><b>Agree</b></u>:</p>"
      ],
      "text/plain": [
       "<IPython.core.display.HTML object>"
      ]
     },
     "metadata": {},
     "output_type": "display_data"
    },
    {
     "name": "stdout",
     "output_type": "stream",
     "text": [
      "3\n"
     ]
    },
    {
     "data": {
      "text/html": [
       "<h2 style='color: green; font-weight: bold;'>I. PROFILE OF THE RESPONDENTS</h2>"
      ],
      "text/plain": [
       "<IPython.core.display.HTML object>"
      ]
     },
     "metadata": {},
     "output_type": "display_data"
    },
    {
     "data": {
      "text/html": [
       "\n",
       "        <iframe\n",
       "            width=\"100%\"\n",
       "            height=\"650\"\n",
       "            src=\"http://127.0.0.1:8050/\"\n",
       "            frameborder=\"0\"\n",
       "            allowfullscreen\n",
       "            \n",
       "        ></iframe>\n",
       "        "
      ],
      "text/plain": [
       "<IPython.lib.display.IFrame at 0x176c87d10>"
      ]
     },
     "metadata": {},
     "output_type": "display_data"
    },
    {
     "name": "stdout",
     "output_type": "stream",
     "text": [
      "\n"
     ]
    },
    {
     "data": {
      "text/html": [
       "<h2 style='color: green; font-weight: bold;'>II. CATEGORY/FACTOR ANALYSIS</h2>"
      ],
      "text/plain": [
       "<IPython.core.display.HTML object>"
      ]
     },
     "metadata": {},
     "output_type": "display_data"
    },
    {
     "data": {
      "text/html": [
       "\n",
       "            <font color='black'><b>DESCRIPTION:</b></font> This program capability enables you to analyze your survey questions grouped under a single category. \n",
       "            This feature is particularly useful when you want to assess questions that measure a specific factor or category.<br><br>\n",
       "            In your survey data file, each question is assigned a unique number for your convenience (Q1, Q2, Q3..). \n",
       "            This means you no longer need to copy and paste questions. Instead, you can simply input the corresponding question number.\"\n",
       "            "
      ],
      "text/plain": [
       "<IPython.core.display.HTML object>"
      ]
     },
     "metadata": {},
     "output_type": "display_data"
    },
    {
     "data": {
      "text/html": [
       "Q1. The food vlogger is interesting, relatable and entertaining to watch<br>Q2. The food vlogger's non-verbal gestures looks real and natural<br>Q3. The food vlogger present the information in cheerful and energetic manner<br>Q4. The food vlogger's content is well-organized and cited.<br>Q5. The food vlogger's video received generally good feedback and comments.<br>Q6. The food vlogger influenced me to check out and visit the food hub.<br>Q7. The food vlogger has culinary background.<br>Q8. The food vlogger present detailed information about Ugbo as food hub destination.<br>Q9. The food vlogger has knowledge about the culture behind the featured foods.<br>"
      ],
      "text/plain": [
       "<IPython.core.display.HTML object>"
      ]
     },
     "metadata": {},
     "output_type": "display_data"
    },
    {
     "data": {
      "text/html": [
       "<font color='black'><b>INSTRUCTION:</b></font> Please specify the titles for each of your categories and their respective questions by entering the corresponding question numbers from the list above. Once you have listed all of the categories, simply type 'done' to continue."
      ],
      "text/plain": [
       "<IPython.core.display.HTML object>"
      ]
     },
     "metadata": {},
     "output_type": "display_data"
    },
    {
     "data": {
      "text/html": [
       "<font color='black'><b> EXAMPLE:</b></font><br>     Enter the 1st category title (or 'done' to finish): ENTERTAINMENT<br>     Enter the question numbers for the ‘ENTERTAINMENT category, separated by commas. (Please refer to the numbered questions above): Q1, Q2, Q3, Q4"
      ],
      "text/plain": [
       "<IPython.core.display.HTML object>"
      ]
     },
     "metadata": {},
     "output_type": "display_data"
    },
    {
     "name": "stdout",
     "output_type": "stream",
     "text": [
      "Enter the 1st category title (or 'done' to finish): ENTERTAINMENT\n",
      "Enter the question numbers for the 'ENTERTAINMENT' category, separated by commas. (Please refer to the numbered questions above. Enter as Q1, Q2, Q3, Q4):  Q1,Q2,Q3\n",
      "Enter the 2nd category title (or 'done' to finish): CREDIBILITY\n",
      "Enter the question numbers for the 'CREDIBILITY' category, separated by commas. (Please refer to the numbered questions above. Enter as Q1, Q2, Q3, Q4):  Q4,Q5,Q6\n",
      "Enter the 3rd category title (or 'done' to finish): EXPERTISE\n",
      "Enter the question numbers for the 'EXPERTISE' category, separated by commas. (Please refer to the numbered questions above. Enter as Q1, Q2, Q3, Q4):  Q7,Q8,Q9\n",
      "Enter the 4th category title (or 'done' to finish): done\n"
     ]
    },
    {
     "data": {
      "text/html": [
       "\n",
       "        <iframe\n",
       "            width=\"100%\"\n",
       "            height=\"650\"\n",
       "            src=\"http://127.0.0.1:8051/\"\n",
       "            frameborder=\"0\"\n",
       "            allowfullscreen\n",
       "            \n",
       "        ></iframe>\n",
       "        "
      ],
      "text/plain": [
       "<IPython.lib.display.IFrame at 0x28cad5110>"
      ]
     },
     "metadata": {},
     "output_type": "display_data"
    },
    {
     "data": {
      "text/html": [
       "<h2 style='color: green; font-weight: bold;'>III. CORRELATIONAL ANALYSIS</h2>"
      ],
      "text/plain": [
       "<IPython.core.display.HTML object>"
      ]
     },
     "metadata": {},
     "output_type": "display_data"
    },
    {
     "data": {
      "image/png": "[encoded data removed]",
      "text/plain": [
       "<Figure size 1200x800 with 1 Axes>"
      ]
     },
     "metadata": {},
     "output_type": "display_data"
    },
    {
     "data": {
      "text/html": [
       "<h2 style=\"color: green; text-align: center; font-weight: bold; font-family: Times New Roman;\">VERBAL INTERPRETATION - Top 3 Strong Positive Relationships</h2><p style=\"text-align: center; font-weight: bold; font-family: Times New Roman;\">The variables 'The food vlogger has knowledge about the culture behind the featured foods.' and 'The food vlogger has culinary background.' show a strong positive correlation: 0.67</p><p style=\"text-align: center; font-weight: bold; font-family: Times New Roman;\">The variables 'The food vlogger has knowledge about the culture behind the featured foods.' and 'The food vlogger present detailed information about Ugbo as food hub destination.' show a strong positive correlation: 0.62</p><p style=\"text-align: center; font-weight: bold; font-family: Times New Roman;\">The variables 'The food vlogger's content is well-organized and cited.' and 'The food vlogger's video received generally good feedback and comments.' show a strong positive correlation: 0.51</p>"
      ],
      "text/plain": [
       "<IPython.core.display.HTML object>"
      ]
     },
     "metadata": {},
     "output_type": "display_data"
    },
    {
     "data": {
      "image/png": "[encoded data removed]",
      "text/plain": [
       "<Figure size 1200x800 with 1 Axes>"
      ]
     },
     "metadata": {},
     "output_type": "display_data"
    },
    {
     "data": {
      "text/html": [
       "<h2 style=\"color: green; text-align: center; font-weight: bold; font-family: Times New Roman;\">VERBAL INTERPRETATION - Top 3 Strong Positive Relationships</h2><p style=\"text-align: center; font-weight: bold; font-family: Times New Roman;\">The variables 'ENTERTAINMENT' and 'CREDIBILITY' show a strong positive correlation: 0.68</p><p style=\"text-align: center; font-weight: bold; font-family: Times New Roman;\">The variables 'CREDIBILITY' and 'EXPERTISE' show a strong positive correlation: 0.62</p><p style=\"text-align: center; font-weight: bold; font-family: Times New Roman;\">The variables 'ENTERTAINMENT' and 'EXPERTISE' show a strong positive correlation: 0.55</p>"
      ],
      "text/plain": [
       "<IPython.core.display.HTML object>"
      ]
     },
     "metadata": {},
     "output_type": "display_data"
    },
    {
     "data": {
      "text/html": [
       "<h2 style='color: green; font-weight: bold;'>IV. SIGNIFICANT DIFFERENCES BETWEEN PROFILE OF THE RESPONDENTS AND SURVEY RESPONSES</h2>"
      ],
      "text/plain": [
       "<IPython.core.display.HTML object>"
      ]
     },
     "metadata": {},
     "output_type": "display_data"
    },
    {
     "data": {
      "text/html": [
       "\n",
       "        <iframe\n",
       "            width=\"100%\"\n",
       "            height=\"650\"\n",
       "            src=\"http://127.0.0.1:8050/\"\n",
       "            frameborder=\"0\"\n",
       "            allowfullscreen\n",
       "            \n",
       "        ></iframe>\n",
       "        "
      ],
      "text/plain": [
       "<IPython.lib.display.IFrame at 0x28cb11350>"
      ]
     },
     "metadata": {},
     "output_type": "display_data"
    },
    {
     "data": {
      "text/html": [
       "<h2 style='color: green; font-weight: bold;'>V. INDIVIDUAL ANALYSIS FOR ALL QUESTIONS</h2>"
      ],
      "text/plain": [
       "<IPython.core.display.HTML object>"
      ]
     },
     "metadata": {},
     "output_type": "display_data"
    },
    {
     "data": {
      "text/html": [
       "\n",
       "        <iframe\n",
       "            width=\"100%\"\n",
       "            height=\"650\"\n",
       "            src=\"http://127.0.0.1:8053/\"\n",
       "            frameborder=\"0\"\n",
       "            allowfullscreen\n",
       "            \n",
       "        ></iframe>\n",
       "        "
      ],
      "text/plain": [
       "<IPython.lib.display.IFrame at 0x178f4fc50>"
      ]
     },
     "metadata": {},
     "output_type": "display_data"
    }
   ],
   "source": [
    "if __name__ == \"__main__\":\n",
    "    main()"
   ]
  },
  {
   "cell_type": "code",
   "execution_count": null,
   "id": "3b581aba",
   "metadata": {},
   "outputs": [],
   "source": []
  },
  {
   "cell_type": "code",
   "execution_count": null,
   "id": "058c6664",
   "metadata": {},
   "outputs": [],
   "source": []
  },
  {
   "cell_type": "code",
   "execution_count": null,
   "id": "6096eae1",
   "metadata": {},
   "outputs": [],
   "source": []
  }
 ],
 "metadata": {
  "kernelspec": {
   "display_name": "Python 3 (ipykernel)",
   "language": "python",
   "name": "python3"
  },
  "language_info": {
   "codemirror_mode": {
    "name": "ipython",
    "version": 3
   },
   "file_extension": ".py",
   "mimetype": "text/x-python",
   "name": "python",
   "nbconvert_exporter": "python",
   "pygments_lexer": "ipython3",
   "version": "3.11.4"
  }
 },
 "nbformat": 4,
 "nbformat_minor": 5
}
